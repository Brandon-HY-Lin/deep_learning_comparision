{
 "cells": [
  {
   "cell_type": "markdown",
   "metadata": {},
   "source": [
    "# Test Data Augmentation"
   ]
  },
  {
   "cell_type": "code",
   "execution_count": 4,
   "metadata": {},
   "outputs": [
    {
     "name": "stdout",
     "output_type": "stream",
     "text": [
      "Downloading data from https://s3.amazonaws.com/img-datasets/mnist.npz\n",
      "11493376/11490434 [==============================] - 2s 0us/step\n"
     ]
    }
   ],
   "source": [
    "from keras.preprocessing.image import ImageDataGenerator\n",
    "from keras.datasets import mnist\n",
    "\n",
    "(x_train, y_train), (x_test, y_test) = mnist.load_data()"
   ]
  },
  {
   "cell_type": "code",
   "execution_count": 11,
   "metadata": {},
   "outputs": [
    {
     "name": "stdout",
     "output_type": "stream",
     "text": [
      "x_train.shape:(60000, 28, 28), y_train.shape:(60000,)\n",
      "x_train[1].min:0, x_train[1].max:255\n",
      "x_train_expand.shape:(60000, 28, 28, 1)\n"
     ]
    }
   ],
   "source": [
    "print('x_train.shape:{}, y_train.shape:{}'.format(x_train.shape, y_train.shape))\n",
    "index = 1\n",
    "print('x_train[{0}].min:{1}, x_train[{0}].max:{2}'.format(\n",
    "                index, \n",
    "                x_train[index].min(), \n",
    "                x_train[index].max()))\n",
    "\n",
    "import numpy as np\n",
    "x_train_expand = np.expand_dims(x_train, axis=-1)\n",
    "x_test_expand = np.expand_dims(x_test, axis=-1)\n",
    "print('x_train_expand.shape:{}'.format(x_train_expand.shape))\n"
   ]
  },
  {
   "cell_type": "code",
   "execution_count": 8,
   "metadata": {},
   "outputs": [],
   "source": [
    "import os\n",
    "\n",
    "path_augmentation='./preview/'\n",
    "\n",
    "if not os.path.exists(path_augmentation):\n",
    "    os.makedirs(path_augmentation)"
   ]
  },
  {
   "cell_type": "code",
   "execution_count": 6,
   "metadata": {},
   "outputs": [],
   "source": [
    "datagen = ImageDataGenerator(\n",
    "            rotation_range=0,\n",
    "#             width_shift_range=0.2,\n",
    "#             height_shift_range=0.2,\n",
    "#             rescale=1./255,\n",
    "#             shear_range=0.2,\n",
    "#             zoom_range=0.2,\n",
    "            horizontal_flip=True,\n",
    "            fill_mode='nearest')"
   ]
  },
  {
   "cell_type": "code",
   "execution_count": 43,
   "metadata": {},
   "outputs": [],
   "source": [
    "\n",
    "    \n",
    "i = 0\n",
    "for batch in datagen.flow(x_train_expand[0:1], y_train_enbatch_size=1, \n",
    "                          save_to_dir=path_augmentation, save_prefix='digit', save_format='jpeg'):\n",
    "    i += 1\n",
    "    if i > 5:\n",
    "        break"
   ]
  },
  {
   "cell_type": "code",
   "execution_count": 12,
   "metadata": {},
   "outputs": [
    {
     "name": "stdout",
     "output_type": "stream",
     "text": [
      "[2]\n",
      "[1]\n",
      "[1]\n",
      "[3]\n",
      "[4]\n",
      "[0]\n"
     ]
    }
   ],
   "source": [
    "datagen_org = ImageDataGenerator()\n",
    "\n",
    "i = 0\n",
    "for x_batch, y_batch in datagen_org.flow(x_train_expand[0:10], y_train[0:10], batch_size=1, \n",
    "                          save_to_dir=path_augmentation, save_prefix='org', save_format='jpeg'):\n",
    "    \n",
    "    print(y_batch)\n",
    "    i += 1\n",
    "    if i > 5:\n",
    "        break"
   ]
  },
  {
   "cell_type": "code",
   "execution_count": 13,
   "metadata": {},
   "outputs": [],
   "source": []
  },
  {
   "cell_type": "code",
   "execution_count": null,
   "metadata": {},
   "outputs": [],
   "source": []
  }
 ],
 "metadata": {
  "kernelspec": {
   "display_name": "Python 3",
   "language": "python",
   "name": "python3"
  },
  "language_info": {
   "codemirror_mode": {
    "name": "ipython",
    "version": 3
   },
   "file_extension": ".py",
   "mimetype": "text/x-python",
   "name": "python",
   "nbconvert_exporter": "python",
   "pygments_lexer": "ipython3",
   "version": "3.6.3"
  }
 },
 "nbformat": 4,
 "nbformat_minor": 2
}
