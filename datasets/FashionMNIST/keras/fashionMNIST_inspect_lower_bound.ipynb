{
 "cells": [
  {
   "cell_type": "code",
   "execution_count": 2,
   "metadata": {},
   "outputs": [
    {
     "name": "stdout",
     "output_type": "stream",
     "text": [
      "Downloading data from http://fashion-mnist.s3-website.eu-central-1.amazonaws.com/train-labels-idx1-ubyte.gz\n",
      "32768/29515 [=================================] - 0s 3us/step\n",
      "Downloading data from http://fashion-mnist.s3-website.eu-central-1.amazonaws.com/train-images-idx3-ubyte.gz\n",
      "26427392/26421880 [==============================] - 17s 1us/step\n",
      "Downloading data from http://fashion-mnist.s3-website.eu-central-1.amazonaws.com/t10k-labels-idx1-ubyte.gz\n",
      "8192/5148 [===============================================] - 0s 0us/step\n",
      "Downloading data from http://fashion-mnist.s3-website.eu-central-1.amazonaws.com/t10k-images-idx3-ubyte.gz\n",
      "4423680/4422102 [==============================] - 4s 1us/step\n"
     ]
    }
   ],
   "source": [
    "from keras.datasets import fashion_mnist\n",
    "(x_train, y_train), (x_test, y_test) = fashion_mnist.load_data()"
   ]
  },
  {
   "cell_type": "code",
   "execution_count": 30,
   "metadata": {},
   "outputs": [
    {
     "name": "stdout",
     "output_type": "stream",
     "text": [
      "shape of X_train:(60000, 28, 28), y_train:(60000,)\n",
      "shape of X_test:(10000, 28, 28), y_test:(10000,)\n",
      "min of y=0, max of y=9\n"
     ]
    }
   ],
   "source": [
    "import numpy as np\n",
    "\n",
    "print('shape of X_train:{}, y_train:{}'.format(x_train.shape, y_train.shape))\n",
    "print('shape of X_test:{}, y_test:{}'.format(x_test.shape, y_test.shape))\n",
    "# print('min of x={}, max of x={}'.format(min(x_train[0]), max(x_train[0])))\n",
    "print('min of y={}, max of y={}'.format(min(y_train), max(y_train)))"
   ]
  },
  {
   "cell_type": "code",
   "execution_count": 47,
   "metadata": {},
   "outputs": [
    {
     "name": "stdout",
     "output_type": "stream",
     "text": [
      "y_train_encodded.shape=(60000, 10)\n",
      "y_test_encodded.shape=(10000, 10)\n"
     ]
    }
   ],
   "source": [
    "from sklearn.preprocessing  import OneHotEncoder\n",
    "\n",
    "encoder = OneHotEncoder(sparse=False)\n",
    "y_train_encodded = encoder.fit_transform(y_train.reshape(len(y_train), 1))\n",
    "y_test_encodded = encoder.transform(y_test.reshape(len(y_test), 1))\n",
    "\n",
    "print('y_train_encodded.shape={}'.format(y_train_encodded.shape))\n",
    "print('y_test_encodded.shape={}'.format(y_test_encodded.shape))"
   ]
  },
  {
   "cell_type": "code",
   "execution_count": 55,
   "metadata": {},
   "outputs": [],
   "source": [
    "from keras.models import Sequential\n",
    "from keras.layers import Dense, Flatten, BatchNormalization\n",
    "from keras.optimizers import Adam\n",
    "\n",
    "class DNN(object):\n",
    "    def __init__(self):\n",
    "        self.model = self.build_model()\n",
    "\n",
    "        \n",
    "    def build_model(self, activation='relu', num_output=10):\n",
    "        model = Sequential()\n",
    "        \n",
    "        # flatten image to 1D\n",
    "        model.add(Flatten(input_shape=(28, 28)))\n",
    "        \n",
    "        model.add(Dense(2048, activation=activation))\n",
    "        model.add(BatchNormalization())\n",
    "        \n",
    "        model.add(Dense(512, activation=activation))\n",
    "        model.add(BatchNormalization())\n",
    "        \n",
    "        model.add(Dense(128, activation=activation))\n",
    "        model.add(BatchNormalization())\n",
    "\n",
    "        \n",
    "        # output layer\n",
    "        model.add(Dense(num_output, activation='softmax'))\n",
    "        \n",
    "        ## define optimizer\n",
    "        model.compile(loss='categorical_crossentropy', optimizer='adam', metrics=['accuracy'])\n",
    "        \n",
    "        return model\n",
    "    \n",
    "    \n",
    "    def train(self, X_train, y_train, X_test, y_test, epochs, batch_size=32):\n",
    "        self.model.fit(X_train, y_train, \n",
    "                       batch_size=batch_size,\n",
    "                      epochs=epochs,\n",
    "                      verbose=1,\n",
    "                      validation_data=(X_test, y_test))\n",
    "    \n",
    "    def score(self, X, y):\n",
    "        return self.model.evaluation(X, y, verbose=0)\n",
    "    \n",
    "    "
   ]
  },
  {
   "cell_type": "code",
   "execution_count": 56,
   "metadata": {},
   "outputs": [
    {
     "name": "stdout",
     "output_type": "stream",
     "text": [
      "_________________________________________________________________\n",
      "Layer (type)                 Output Shape              Param #   \n",
      "=================================================================\n",
      "flatten_13 (Flatten)         (None, 784)               0         \n",
      "_________________________________________________________________\n",
      "dense_23 (Dense)             (None, 2048)              1607680   \n",
      "_________________________________________________________________\n",
      "batch_normalization_1 (Batch (None, 2048)              8192      \n",
      "_________________________________________________________________\n",
      "dense_24 (Dense)             (None, 512)               1049088   \n",
      "_________________________________________________________________\n",
      "batch_normalization_2 (Batch (None, 512)               2048      \n",
      "_________________________________________________________________\n",
      "dense_25 (Dense)             (None, 128)               65664     \n",
      "_________________________________________________________________\n",
      "batch_normalization_3 (Batch (None, 128)               512       \n",
      "_________________________________________________________________\n",
      "dense_26 (Dense)             (None, 10)                1290      \n",
      "=================================================================\n",
      "Total params: 2,734,474\n",
      "Trainable params: 2,729,098\n",
      "Non-trainable params: 5,376\n",
      "_________________________________________________________________\n",
      "Train on 60000 samples, validate on 10000 samples\n",
      "Epoch 1/1\n",
      "60000/60000 [==============================] - 163s 3ms/step - loss: 0.4940 - acc: 0.8203 - val_loss: 0.4766 - val_acc: 0.8292\n"
     ]
    }
   ],
   "source": [
    "dnn = DNN()\n",
    "dnn.model.summary()\n",
    "\n",
    "epochs = 1\n",
    "dnn.train(x_train, y_train_encodded, x_test, y_test_encodded, epochs)"
   ]
  },
  {
   "cell_type": "code",
   "execution_count": null,
   "metadata": {},
   "outputs": [],
   "source": []
  }
 ],
 "metadata": {
  "kernelspec": {
   "display_name": "Python 3",
   "language": "python",
   "name": "python3"
  },
  "language_info": {
   "codemirror_mode": {
    "name": "ipython",
    "version": 3
   },
   "file_extension": ".py",
   "mimetype": "text/x-python",
   "name": "python",
   "nbconvert_exporter": "python",
   "pygments_lexer": "ipython3",
   "version": "3.6.3"
  }
 },
 "nbformat": 4,
 "nbformat_minor": 2
}
