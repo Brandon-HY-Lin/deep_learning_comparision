{
 "cells": [
  {
   "cell_type": "code",
   "execution_count": 1,
   "metadata": {},
   "outputs": [
    {
     "name": "stderr",
     "output_type": "stream",
     "text": [
      "Using TensorFlow backend.\n"
     ]
    }
   ],
   "source": [
    "from keras.datasets import fashion_mnist\n",
    "from keras.preprocessing.image import ImageDataGenerator\n",
    "from keras.models import Sequential\n",
    "from keras.layers import Dense, Conv2D, MaxPooling2D, GlobalAveragePooling2D\n",
    "from keras.layers import BatchNormalization, Dropout\n",
    "from keras.optimizers import SGD\n",
    "from sklearn.preprocessing import OneHotEncoder\n",
    "import numpy as np\n",
    "import matplotlib.pyplot as plt\n",
    "%matplotlib inline"
   ]
  },
  {
   "cell_type": "code",
   "execution_count": 2,
   "metadata": {},
   "outputs": [
    {
     "name": "stdout",
     "output_type": "stream",
     "text": [
      "Downloading data from http://fashion-mnist.s3-website.eu-central-1.amazonaws.com/train-labels-idx1-ubyte.gz\n",
      "32768/29515 [=================================] - 0s 3us/step\n",
      "Downloading data from http://fashion-mnist.s3-website.eu-central-1.amazonaws.com/train-images-idx3-ubyte.gz\n",
      "26427392/26421880 [==============================] - 17s 1us/step\n",
      "Downloading data from http://fashion-mnist.s3-website.eu-central-1.amazonaws.com/t10k-labels-idx1-ubyte.gz\n",
      "8192/5148 [===============================================] - 0s 0us/step\n",
      "Downloading data from http://fashion-mnist.s3-website.eu-central-1.amazonaws.com/t10k-images-idx3-ubyte.gz\n",
      "4423680/4422102 [==============================] - 4s 1us/step\n"
     ]
    }
   ],
   "source": [
    "# load data\n",
    "(x_train, y_train), (x_test, y_test) = fashion_mnist.load_data()"
   ]
  },
  {
   "cell_type": "code",
   "execution_count": 3,
   "metadata": {},
   "outputs": [
    {
     "name": "stdout",
     "output_type": "stream",
     "text": [
      "x_train.shape=(60000, 28, 28), y_train.shape=(60000,)\n",
      "x_test.shape=(10000, 28, 28), y_test.shape=(10000,)\n",
      "x_train[0].max()=255, x_train[0].min()=0\n",
      "y_train.max()=9, y_train.min()=0\n"
     ]
    }
   ],
   "source": [
    "# inspect shape, max/min\n",
    "print('x_train.shape={}, y_train.shape={}'.format(x_train.shape, y_train.shape))\n",
    "print('x_test.shape={}, y_test.shape={}'.format(x_test.shape, y_test.shape))\n",
    "print('x_train[0].max()={}, x_train[0].min()={}'.format(x_train[0].max(), x_train[0].min()))\n",
    "print('y_train.max()={}, y_train.min()={}'.format(y_train.max(), y_train.min()))"
   ]
  },
  {
   "cell_type": "code",
   "execution_count": 4,
   "metadata": {},
   "outputs": [
    {
     "name": "stdout",
     "output_type": "stream",
     "text": [
      "x_train_expand.shape=(60000, 28, 28, 1), y_train_encodded.shape=(60000, 10)\n",
      "x_test_expand.shape=(10000, 28, 28, 1), y_test_encodded.shape=(10000, 10)\n",
      "[ 0.  0.  0.  0.  0.  0.  0.  0.  0.  1.]\n"
     ]
    }
   ],
   "source": [
    "# add 1 dim to x_train and x_test\n",
    "x_train_expand = np.expand_dims(x_train, axis=-1)\n",
    "x_test_expand = np.expand_dims(x_test, axis=-1)\n",
    "\n",
    "# encode y_train and y_test\n",
    "encoder = OneHotEncoder(sparse=False)\n",
    "y_train_encodded = encoder.fit_transform(y_train.reshape(len(y_train), 1))\n",
    "y_test_encodded = encoder.transform(y_test.reshape(len(y_test), 1))\n",
    "\n",
    "# inspect shape\n",
    "print('x_train_expand.shape={}, y_train_encodded.shape={}'.format( \\\n",
    "    x_train_expand.shape, y_train_encodded.shape))\n",
    "print('x_test_expand.shape={}, y_test_encodded.shape={}'.format( \\\n",
    "    x_test_expand.shape, y_test_encodded.shape))\n",
    "print(y_train_encodded[0])"
   ]
  },
  {
   "cell_type": "code",
   "execution_count": 11,
   "metadata": {},
   "outputs": [],
   "source": [
    "# Define CNN\n",
    "class CNN(object):\n",
    "    def __init__(self):\n",
    "        self.model = self.build_model()\n",
    "        \n",
    "        # Image data augmentation\n",
    "        self.train_datagen = ImageDataGenerator(\n",
    "                    rotation_range=0,\n",
    "                    rescale=1./255,\n",
    "                    horizontal_flip=True,\n",
    "                    fill_mode='nearest')\n",
    "\n",
    "        self.valid_datagen = ImageDataGenerator(rescale=1./255)\n",
    "        \n",
    "    \n",
    "    def build_model(self, kernel_size=(3, 3), strides=1, pool_size=(2, 2), activation='relu'):\n",
    "        model = Sequential()\n",
    "        \n",
    "        ## Layer 0:\n",
    "        # input shape = (None, 28, 28, 1), output shape=(None, 14, 14, 32)\n",
    "        model.add(Conv2D(32, kernel_size=kernel_size, \n",
    "                         strides=strides, padding='same', activation=activation,\n",
    "                        input_shape=(28, 28, 1)))\n",
    "        model.add(Conv2D(32, kernel_size=kernel_size, \n",
    "                         strides=strides, padding='same', activation=activation))\n",
    "        model.add(MaxPooling2D(pool_size=pool_size))\n",
    "        model.add(BatchNormalization())\n",
    "        model.add(Dropout(0.25))\n",
    "        \n",
    "        ## Layer 1:\n",
    "        # output shape=(None, 7, 7, 64)\n",
    "        model.add(Conv2D(64, kernel_size=kernel_size,\n",
    "                        strides=strides, padding='same', activation=activation))\n",
    "        model.add(Conv2D(64, kernel_size=kernel_size,\n",
    "                        strides=strides, padding='same', activation=activation))\n",
    "        model.add(MaxPooling2D(pool_size=pool_size))\n",
    "        model.add(BatchNormalization())\n",
    "        model.add(Dropout(0.25))\n",
    "        \n",
    "        ## Layer 2:\n",
    "        # output shape = (None, 5, 5, 128) => (7 - 3 + 2*0) / 1 + 1 = 5\n",
    "        model.add(Conv2D(128, kernel_size=kernel_size,\n",
    "                        strides=strides, padding='valid', activation=activation))\n",
    "        \n",
    "        # output shape = (None, 3, 3, 128) => (5 - 3 + 2*0) / 1 + 1 = 3\n",
    "        model.add(Conv2D(128, kernel_size=kernel_size,\n",
    "                        strides=strides, padding='valid', activation=activation))\n",
    "        \n",
    "        # output shape = (None, 3, 3, 128)\n",
    "        model.add(MaxPooling2D(pool_size=pool_size))\n",
    "        model.add(BatchNormalization())\n",
    "        model.add(Dropout(0.25))\n",
    "        \n",
    "        ## Layer 3\n",
    "        # output shape = (None, 128)\n",
    "        model.add(GlobalAveragePooling2D())\n",
    "        model.add(BatchNormalization())\n",
    "        model.add(Dropout(0.25))\n",
    "        \n",
    "        ## Layer 4\n",
    "        # output shape = (None, 128)\n",
    "        model.add(Dense(128, activation=activation))\n",
    "        model.add(BatchNormalization())\n",
    "        model.add(Dropout(0.25))\n",
    "        \n",
    "        ## Layer 5\n",
    "        # Output shape = (None, 64)\n",
    "        model.add(Dense(64, activation=activation))\n",
    "        model.add(BatchNormalization())\n",
    "        model.add(Dropout(0.25))\n",
    "        \n",
    "        ## Layer 6\n",
    "        # output shape = (None, 10)\n",
    "        model.add(Dense(10, activation='softmax'))\n",
    "        \n",
    "        # define optimizer\n",
    "        sgd = SGD(lr=0.01, decay=1e-6, momentum=0.9, nesterov=True)\n",
    "        model.compile(loss='categorical_crossentropy', optimizer=sgd, metrics=['accuracy'])\n",
    "        \n",
    "        return model\n",
    "    \n",
    "    \n",
    "    def fit(self, x_train, y_train, x_valid, y_valid, epochs, batch_size=32, batch_size_valid=32):\n",
    "        \n",
    "\n",
    "        # generators\n",
    "        train_generator = self.train_datagen.flow(x_train, y_train,batch_size=batch_size)\n",
    "        \n",
    "        valid_generator = self.valid_datagen.flow(x_valid, y_valid, batch_size=batch_size_valid)\n",
    "\n",
    "        self.model.fit_generator(\n",
    "                    train_generator,\n",
    "                    epochs=epochs,\n",
    "                    steps_per_epoch=len(x_train) / batch_size * 2,\n",
    "                    validation_data=valid_generator,\n",
    "                    validation_steps=(len(x_valid)/ batch_size_valid))"
   ]
  },
  {
   "cell_type": "code",
   "execution_count": 12,
   "metadata": {},
   "outputs": [
    {
     "name": "stdout",
     "output_type": "stream",
     "text": [
      "_________________________________________________________________\n",
      "Layer (type)                 Output Shape              Param #   \n",
      "=================================================================\n",
      "conv2d_13 (Conv2D)           (None, 28, 28, 32)        320       \n",
      "_________________________________________________________________\n",
      "conv2d_14 (Conv2D)           (None, 28, 28, 32)        9248      \n",
      "_________________________________________________________________\n",
      "max_pooling2d_7 (MaxPooling2 (None, 14, 14, 32)        0         \n",
      "_________________________________________________________________\n",
      "batch_normalization_13 (Batc (None, 14, 14, 32)        128       \n",
      "_________________________________________________________________\n",
      "dropout_13 (Dropout)         (None, 14, 14, 32)        0         \n",
      "_________________________________________________________________\n",
      "conv2d_15 (Conv2D)           (None, 14, 14, 64)        18496     \n",
      "_________________________________________________________________\n",
      "conv2d_16 (Conv2D)           (None, 14, 14, 64)        36928     \n",
      "_________________________________________________________________\n",
      "max_pooling2d_8 (MaxPooling2 (None, 7, 7, 64)          0         \n",
      "_________________________________________________________________\n",
      "batch_normalization_14 (Batc (None, 7, 7, 64)          256       \n",
      "_________________________________________________________________\n",
      "dropout_14 (Dropout)         (None, 7, 7, 64)          0         \n",
      "_________________________________________________________________\n",
      "conv2d_17 (Conv2D)           (None, 5, 5, 128)         73856     \n",
      "_________________________________________________________________\n",
      "conv2d_18 (Conv2D)           (None, 3, 3, 128)         147584    \n",
      "_________________________________________________________________\n",
      "max_pooling2d_9 (MaxPooling2 (None, 1, 1, 128)         0         \n",
      "_________________________________________________________________\n",
      "batch_normalization_15 (Batc (None, 1, 1, 128)         512       \n",
      "_________________________________________________________________\n",
      "dropout_15 (Dropout)         (None, 1, 1, 128)         0         \n",
      "_________________________________________________________________\n",
      "global_average_pooling2d_3 ( (None, 128)               0         \n",
      "_________________________________________________________________\n",
      "batch_normalization_16 (Batc (None, 128)               512       \n",
      "_________________________________________________________________\n",
      "dropout_16 (Dropout)         (None, 128)               0         \n",
      "_________________________________________________________________\n",
      "dense_7 (Dense)              (None, 128)               16512     \n",
      "_________________________________________________________________\n",
      "batch_normalization_17 (Batc (None, 128)               512       \n",
      "_________________________________________________________________\n",
      "dropout_17 (Dropout)         (None, 128)               0         \n",
      "_________________________________________________________________\n",
      "dense_8 (Dense)              (None, 64)                8256      \n",
      "_________________________________________________________________\n",
      "batch_normalization_18 (Batc (None, 64)                256       \n",
      "_________________________________________________________________\n",
      "dropout_18 (Dropout)         (None, 64)                0         \n",
      "_________________________________________________________________\n",
      "dense_9 (Dense)              (None, 10)                650       \n",
      "=================================================================\n",
      "Total params: 314,026\n",
      "Trainable params: 312,938\n",
      "Non-trainable params: 1,088\n",
      "_________________________________________________________________\n"
     ]
    }
   ],
   "source": [
    "cnn = CNN()\n",
    "cnn.model.summary()"
   ]
  },
  {
   "cell_type": "code",
   "execution_count": 13,
   "metadata": {},
   "outputs": [
    {
     "name": "stdout",
     "output_type": "stream",
     "text": [
      "Epoch 1/10\n",
      "3750/3750 [==============================] - 91s 24ms/step - loss: 0.7154 - acc: 0.7371 - val_loss: 0.5602 - val_acc: 0.8038\n",
      "Epoch 2/10\n",
      "3750/3750 [==============================] - 90s 24ms/step - loss: 0.4714 - acc: 0.8333 - val_loss: 0.3292 - val_acc: 0.8775\n",
      "Epoch 3/10\n",
      "3750/3750 [==============================] - 91s 24ms/step - loss: 0.3850 - acc: 0.8659 - val_loss: 0.2886 - val_acc: 0.8967\n",
      "Epoch 4/10\n",
      "3750/3750 [==============================] - 90s 24ms/step - loss: 0.3453 - acc: 0.8798 - val_loss: 0.2765 - val_acc: 0.8973\n",
      "Epoch 5/10\n",
      "3750/3750 [==============================] - 90s 24ms/step - loss: 0.3197 - acc: 0.8891 - val_loss: 0.2839 - val_acc: 0.8944\n",
      "Epoch 6/10\n",
      "3750/3750 [==============================] - 91s 24ms/step - loss: 0.3021 - acc: 0.8952 - val_loss: 0.2525 - val_acc: 0.9097\n",
      "Epoch 7/10\n",
      "3750/3750 [==============================] - 91s 24ms/step - loss: 0.2883 - acc: 0.9003 - val_loss: 0.2523 - val_acc: 0.9097\n",
      "Epoch 8/10\n",
      "3750/3750 [==============================] - 90s 24ms/step - loss: 0.2750 - acc: 0.9050 - val_loss: 0.2282 - val_acc: 0.9181\n",
      "Epoch 9/10\n",
      "3750/3750 [==============================] - 90s 24ms/step - loss: 0.2679 - acc: 0.9065 - val_loss: 0.2185 - val_acc: 0.9199\n",
      "Epoch 10/10\n",
      "3750/3750 [==============================] - 91s 24ms/step - loss: 0.2595 - acc: 0.9098 - val_loss: 0.2294 - val_acc: 0.9171\n"
     ]
    }
   ],
   "source": [
    "epochs = 10\n",
    "cnn.fit(x_train_expand, y_train_encodded, x_test_expand, y_test_encodded, epochs)"
   ]
  },
  {
   "cell_type": "code",
   "execution_count": null,
   "metadata": {},
   "outputs": [],
   "source": []
  }
 ],
 "metadata": {
  "kernelspec": {
   "display_name": "Python 3",
   "language": "python",
   "name": "python3"
  },
  "language_info": {
   "codemirror_mode": {
    "name": "ipython",
    "version": 3
   },
   "file_extension": ".py",
   "mimetype": "text/x-python",
   "name": "python",
   "nbconvert_exporter": "python",
   "pygments_lexer": "ipython3",
   "version": "3.6.3"
  }
 },
 "nbformat": 4,
 "nbformat_minor": 2
}
