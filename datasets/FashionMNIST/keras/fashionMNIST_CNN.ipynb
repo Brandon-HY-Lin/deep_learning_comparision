{
 "cells": [
  {
   "cell_type": "code",
   "execution_count": 1,
   "metadata": {},
   "outputs": [
    {
     "name": "stderr",
     "output_type": "stream",
     "text": [
      "Using TensorFlow backend.\n"
     ]
    },
    {
     "name": "stdout",
     "output_type": "stream",
     "text": [
      "Downloading data from http://fashion-mnist.s3-website.eu-central-1.amazonaws.com/train-labels-idx1-ubyte.gz\n",
      "32768/29515 [=================================] - 0s 3us/step\n",
      "Downloading data from http://fashion-mnist.s3-website.eu-central-1.amazonaws.com/train-images-idx3-ubyte.gz\n",
      "26427392/26421880 [==============================] - 21s 1us/step\n",
      "Downloading data from http://fashion-mnist.s3-website.eu-central-1.amazonaws.com/t10k-labels-idx1-ubyte.gz\n",
      "8192/5148 [===============================================] - 0s 0us/step\n",
      "Downloading data from http://fashion-mnist.s3-website.eu-central-1.amazonaws.com/t10k-images-idx3-ubyte.gz\n",
      "4423680/4422102 [==============================] - 4s 1us/step\n"
     ]
    }
   ],
   "source": [
    "from keras.datasets import fashion_mnist\n",
    "\n",
    "(x_train, y_train) , (x_test, y_test) = fashion_mnist.load_data() "
   ]
  },
  {
   "cell_type": "code",
   "execution_count": 2,
   "metadata": {},
   "outputs": [
    {
     "name": "stdout",
     "output_type": "stream",
     "text": [
      "y_train_encodded.shape=(60000, 10)\n",
      "y_test_encodded.shape=(10000, 10)\n"
     ]
    }
   ],
   "source": [
    "from sklearn.preprocessing import OneHotEncoder\n",
    "\n",
    "encoder = OneHotEncoder(sparse=False)\n",
    "y_train_encodded = encoder.fit_transform(y_train.reshape(len(y_train), 1))\n",
    "y_test_encodded = encoder.transform(y_test.reshape(len(y_test), 1))\n",
    "\n",
    "print('y_train_encodded.shape={}'.format(y_train_encodded.shape))\n",
    "print('y_test_encodded.shape={}'.format(y_test_encodded.shape))"
   ]
  },
  {
   "cell_type": "code",
   "execution_count": 33,
   "metadata": {},
   "outputs": [],
   "source": [
    "from keras.models import Sequential\n",
    "from keras.layers import Dense, Conv2D, GlobalAveragePooling2D, Reshape\n",
    "from keras.layers import BatchNormalization, Dropout, MaxPooling2D\n",
    "from keras.optimizers import Adam, SGD\n",
    "\n",
    "class CNN(object):\n",
    "    def __init__(self):\n",
    "        self.model = self.build_model()\n",
    "        \n",
    "    \n",
    "    def build_model(self, activation='relu', kernel_size=(3, 3), strides=1, pool_size=(2, 2)):\n",
    "        model = Sequential()\n",
    "        \n",
    "        # reshape\n",
    "        model.add(Reshape((28, 28, 1), input_shape=(28, 28)))\n",
    "        \n",
    "        # Conv2D(num_filters, ...), Output shape=(None, 14, 14, 32)\n",
    "        model.add(Conv2D(32, kernel_size=kernel_size, \n",
    "                         strides=strides, padding='same', activation=activation,\n",
    "                         ))\n",
    "        model.add(Conv2D(32, kernel_size=kernel_size, \n",
    "                         strides=strides, padding='same', activation=activation,\n",
    "                         ))\n",
    "        \n",
    "        model.add(MaxPooling2D(pool_size=pool_size))\n",
    "        model.add(BatchNormalization())\n",
    "        model.add(Dropout(0.25))\n",
    "        \n",
    "        # Output shape = (None, 7, 7, 64)\n",
    "        model.add(Conv2D(64, kernel_size=kernel_size, \n",
    "                         strides=strides, padding='same', activation=activation))\n",
    "        model.add(Conv2D(64, kernel_size=kernel_size, \n",
    "                         strides=strides, padding='same', activation=activation))\n",
    "        model.add(MaxPooling2D(pool_size=pool_size))\n",
    "        model.add(BatchNormalization())\n",
    "        model.add(Dropout(0.25))\n",
    "        \n",
    "        \n",
    "        # Output shape = (None, 3, 3, 128)\n",
    "        model.add(Conv2D(128, kernel_size=kernel_size,\n",
    "                        strides=strides, padding='valid', activation=activation))\n",
    "        model.add(Conv2D(128, kernel_size=kernel_size,\n",
    "                        strides=strides, padding='valid', activation=activation))\n",
    "        model.add(MaxPooling2D(pool_size=pool_size))\n",
    "        model.add(BatchNormalization())\n",
    "        model.add(Dropout(0.25))\n",
    "        \n",
    "        # Output shape= (None, 128)\n",
    "        model.add(GlobalAveragePooling2D())\n",
    "        model.add(BatchNormalization())\n",
    "        model.add(Dropout(0.25))\n",
    "        \n",
    "        # Output shape = (None, 128)\n",
    "        model.add(Dense(128, activation=activation))\n",
    "        model.add(BatchNormalization())\n",
    "        model.add(Dropout(0.25))\n",
    "        \n",
    "        # Output shape = (None, 64)\n",
    "        model.add(Dense(64, activation=activation))\n",
    "        model.add(BatchNormalization())\n",
    "        model.add(Dropout(0.25))\n",
    "        \n",
    "        model.add(Dense(10, activation='softmax'))\n",
    "        \n",
    "        ### define optimizer\n",
    "        sgd = SGD(lr=0.01, decay=1e-6, momentum=0.9, nesterov=True)\n",
    "#         model.compile(loss='categorical_crossentropy', optimizer='adam', metrics=['accuracy'])\n",
    "        model.compile(loss='categorical_crossentropy', optimizer=sgd, metrics=['accuracy'])\n",
    "        \n",
    "        return model\n",
    "    \n",
    "    \n",
    "    def train(self, X_train, y_train, X_val, y_val, epochs, batch_size=32):\n",
    "        self.model.fit(X_train, y_train, \n",
    "                      epochs=epochs,\n",
    "                       batch_size=batch_size,\n",
    "                       verbose=1,\n",
    "                      validation_data=(X_val, y_val))\n",
    "        \n",
    "\n",
    "    def score(self, X, y):\n",
    "        return self.model.evalution(X, y, verbose=0)"
   ]
  },
  {
   "cell_type": "code",
   "execution_count": 34,
   "metadata": {},
   "outputs": [
    {
     "name": "stdout",
     "output_type": "stream",
     "text": [
      "_________________________________________________________________\n",
      "Layer (type)                 Output Shape              Param #   \n",
      "=================================================================\n",
      "reshape_10 (Reshape)         (None, 28, 28, 1)         0         \n",
      "_________________________________________________________________\n",
      "conv2d_35 (Conv2D)           (None, 28, 28, 32)        320       \n",
      "_________________________________________________________________\n",
      "conv2d_36 (Conv2D)           (None, 28, 28, 32)        9248      \n",
      "_________________________________________________________________\n",
      "max_pooling2d_13 (MaxPooling (None, 14, 14, 32)        0         \n",
      "_________________________________________________________________\n",
      "batch_normalization_50 (Batc (None, 14, 14, 32)        128       \n",
      "_________________________________________________________________\n",
      "dropout_35 (Dropout)         (None, 14, 14, 32)        0         \n",
      "_________________________________________________________________\n",
      "conv2d_37 (Conv2D)           (None, 14, 14, 64)        18496     \n",
      "_________________________________________________________________\n",
      "conv2d_38 (Conv2D)           (None, 14, 14, 64)        36928     \n",
      "_________________________________________________________________\n",
      "max_pooling2d_14 (MaxPooling (None, 7, 7, 64)          0         \n",
      "_________________________________________________________________\n",
      "batch_normalization_51 (Batc (None, 7, 7, 64)          256       \n",
      "_________________________________________________________________\n",
      "dropout_36 (Dropout)         (None, 7, 7, 64)          0         \n",
      "_________________________________________________________________\n",
      "conv2d_39 (Conv2D)           (None, 5, 5, 128)         73856     \n",
      "_________________________________________________________________\n",
      "conv2d_40 (Conv2D)           (None, 3, 3, 128)         147584    \n",
      "_________________________________________________________________\n",
      "max_pooling2d_15 (MaxPooling (None, 1, 1, 128)         0         \n",
      "_________________________________________________________________\n",
      "batch_normalization_52 (Batc (None, 1, 1, 128)         512       \n",
      "_________________________________________________________________\n",
      "dropout_37 (Dropout)         (None, 1, 1, 128)         0         \n",
      "_________________________________________________________________\n",
      "global_average_pooling2d_9 ( (None, 128)               0         \n",
      "_________________________________________________________________\n",
      "batch_normalization_53 (Batc (None, 128)               512       \n",
      "_________________________________________________________________\n",
      "dropout_38 (Dropout)         (None, 128)               0         \n",
      "_________________________________________________________________\n",
      "dense_25 (Dense)             (None, 128)               16512     \n",
      "_________________________________________________________________\n",
      "batch_normalization_54 (Batc (None, 128)               512       \n",
      "_________________________________________________________________\n",
      "dropout_39 (Dropout)         (None, 128)               0         \n",
      "_________________________________________________________________\n",
      "dense_26 (Dense)             (None, 64)                8256      \n",
      "_________________________________________________________________\n",
      "batch_normalization_55 (Batc (None, 64)                256       \n",
      "_________________________________________________________________\n",
      "dropout_40 (Dropout)         (None, 64)                0         \n",
      "_________________________________________________________________\n",
      "dense_27 (Dense)             (None, 10)                650       \n",
      "=================================================================\n",
      "Total params: 314,026\n",
      "Trainable params: 312,938\n",
      "Non-trainable params: 1,088\n",
      "_________________________________________________________________\n"
     ]
    }
   ],
   "source": [
    "cnn = CNN()\n",
    "cnn.model.summary()"
   ]
  },
  {
   "cell_type": "code",
   "execution_count": 39,
   "metadata": {},
   "outputs": [
    {
     "name": "stdout",
     "output_type": "stream",
     "text": [
      "Train on 60000 samples, validate on 10000 samples\n",
      "Epoch 1/4\n",
      "60000/60000 [==============================] - 44s 731us/step - loss: 0.2972 - acc: 0.8959 - val_loss: 0.2629 - val_acc: 0.9048\n",
      "Epoch 2/4\n",
      "60000/60000 [==============================] - 43s 716us/step - loss: 0.2822 - acc: 0.9008 - val_loss: 0.2482 - val_acc: 0.9097\n",
      "Epoch 3/4\n",
      "60000/60000 [==============================] - 42s 707us/step - loss: 0.2755 - acc: 0.9037 - val_loss: 0.2380 - val_acc: 0.9152\n",
      "Epoch 4/4\n",
      "60000/60000 [==============================] - 43s 710us/step - loss: 0.2648 - acc: 0.9083 - val_loss: 0.2333 - val_acc: 0.9159\n"
     ]
    }
   ],
   "source": [
    "epochs = 4  # previously have done 6 epochs. Total epochs = 10\n",
    "\n",
    "cnn.train(x_train, y_train_encodded, x_test, y_test_encodded, epochs)"
   ]
  },
  {
   "cell_type": "code",
   "execution_count": null,
   "metadata": {},
   "outputs": [],
   "source": []
  }
 ],
 "metadata": {
  "kernelspec": {
   "display_name": "Python 3",
   "language": "python",
   "name": "python3"
  },
  "language_info": {
   "codemirror_mode": {
    "name": "ipython",
    "version": 3
   },
   "file_extension": ".py",
   "mimetype": "text/x-python",
   "name": "python",
   "nbconvert_exporter": "python",
   "pygments_lexer": "ipython3",
   "version": "3.6.3"
  }
 },
 "nbformat": 4,
 "nbformat_minor": 2
}
